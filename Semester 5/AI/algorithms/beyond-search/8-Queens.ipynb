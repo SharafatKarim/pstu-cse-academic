{
 "cells": [
  {
   "cell_type": "markdown",
   "id": "bd3cb687-509f-4a17-a462-043b5be3a052",
   "metadata": {},
   "source": [
    "# 8 Queens"
   ]
  },
  {
   "cell_type": "markdown",
   "id": "9d7794bb-6012-41e7-a205-df37d1b92238",
   "metadata": {},
   "source": [
    "## Simulated Annealing"
   ]
  },
  {
   "cell_type": "code",
   "execution_count": 9,
   "id": "99a600b6-dd35-452f-8fce-0aaa59bbe71b",
   "metadata": {},
   "outputs": [],
   "source": [
    "import random, math"
   ]
  },
  {
   "cell_type": "code",
   "execution_count": 10,
   "id": "5fd03d37-62b1-494e-869e-7e086dc8876c",
   "metadata": {},
   "outputs": [],
   "source": [
    "class Board:\n",
    "    def __init__(self, size=8):\n",
    "        self.size = size\n",
    "        # Each index is a column, value is the row of the queen\n",
    "        self.state = [random.randint(0, size - 1) for _ in range(size)]\n",
    "\n",
    "    def conflicts(self, state=None):\n",
    "        \"\"\"Count how many pairs of queens attack each other.\"\"\"\n",
    "        if state is None:\n",
    "            state = self.state\n",
    "        attacks = 0\n",
    "        for i in range(self.size):\n",
    "            for j in range(i + 1, self.size):\n",
    "                # same row or same diagonal\n",
    "                if state[i] == state[j] or abs(state[i] - state[j]) == abs(i - j):\n",
    "                    attacks += 1\n",
    "        return attacks\n",
    "\n",
    "    def random_neighbor(self):\n",
    "        new_state = self.state[:]\n",
    "        col = random.randint(0, self.size - 1)\n",
    "        new_row = random.randint(0, self.size - 1)\n",
    "        new_state[col] = new_row\n",
    "        return new_state"
   ]
  },
  {
   "cell_type": "code",
   "execution_count": 11,
   "id": "92c5bde3-fe5e-4d1d-8b5e-8bef3942116b",
   "metadata": {},
   "outputs": [],
   "source": [
    "class SimulatedAnnealingSolver:\n",
    "    def __init__(self, board, temperature=100, cooling_rate=0.99):\n",
    "        self.board = board\n",
    "        self.temperature = temperature\n",
    "        self.cooling_rate = cooling_rate\n",
    "\n",
    "    def solve(self):\n",
    "        current = self.board.state\n",
    "        current_conflicts = self.board.conflicts(current)\n",
    "\n",
    "        while self.temperature > 0.1 and current_conflicts > 0:\n",
    "            neighbor = self.board.random_neighbor()\n",
    "            neighbor_conflicts = self.board.conflicts(neighbor)\n",
    "\n",
    "            # Difference in conflicts (negative means neighbor is better)\n",
    "            delta = neighbor_conflicts - current_conflicts\n",
    "\n",
    "            # Accept if better, or sometimes if worse\n",
    "            if delta < 0 or random.random() < math.exp(-delta / self.temperature):\n",
    "                current = neighbor\n",
    "                current_conflicts = neighbor_conflicts\n",
    "\n",
    "            # Cool down\n",
    "            self.temperature *= self.cooling_rate\n",
    "\n",
    "        self.board.state = current\n",
    "        return current_conflicts == 0  # True if solved"
   ]
  },
  {
   "cell_type": "code",
   "execution_count": 12,
   "id": "46b33ba3-60ad-4f6d-bb6e-2c93ec020b83",
   "metadata": {},
   "outputs": [],
   "source": [
    "def print_board(state):\n",
    "    size = len(state)\n",
    "    for r in range(size):\n",
    "        row = \"\"\n",
    "        for c in range(size):\n",
    "            row += \"Q \" if state[c] == r else \". \"\n",
    "        print(row)\n",
    "    print()"
   ]
  },
  {
   "cell_type": "code",
   "execution_count": 13,
   "id": "30669ddc-0b1d-495a-90cd-c18c525733ad",
   "metadata": {},
   "outputs": [],
   "source": [
    "def simulated_annealing_test(board):\n",
    "    for i in range(100):\n",
    "        solver = SimulatedAnnealingSolver(board)\n",
    "        if solver.solve():\n",
    "            print_board(board.state)\n",
    "            return\n",
    "    else:\n",
    "        print(\"No solution found.\")"
   ]
  },
  {
   "cell_type": "code",
   "execution_count": 14,
   "id": "892db6a3-b78d-45f4-aed3-36e1ea6d19f8",
   "metadata": {},
   "outputs": [
    {
     "name": "stdout",
     "output_type": "stream",
     "text": [
      "No solution found.\n"
     ]
    }
   ],
   "source": [
    "board = Board()\n",
    "simulated_annealing_test(board)"
   ]
  },
  {
   "cell_type": "markdown",
   "id": "063d51bc-59df-41f6-9d65-f3118ed0ac7b",
   "metadata": {},
   "source": [
    "## Genetics Algorithm"
   ]
  },
  {
   "cell_type": "code",
   "execution_count": 15,
   "id": "0cb01118-12e5-4b28-a41f-eb42eacc8589",
   "metadata": {},
   "outputs": [],
   "source": [
    "class GeneticQueens:\n",
    "    def __init__(self, size=8, population_size=100, mutation_rate=0.05, max_generations=10000):\n",
    "        self.size = size\n",
    "        self.population_size = population_size\n",
    "        self.mutation_rate = mutation_rate\n",
    "        self.max_generations = max_generations\n",
    "\n",
    "    def fitness(self, state):\n",
    "        \"\"\"\n",
    "        Fitness = maximum non-attacking pairs - number of attacking pairs\n",
    "        Higher fitness is better.\n",
    "        \"\"\"\n",
    "        non_attacks = (self.size * (self.size - 1)) // 2\n",
    "        attacks = 0\n",
    "        for i in range(self.size):\n",
    "            for j in range(i + 1, self.size):\n",
    "                if state[i] == state[j] or abs(state[i] - state[j]) == abs(i - j):\n",
    "                    attacks += 1\n",
    "        return non_attacks - attacks\n",
    "\n",
    "    def create_individual(self):\n",
    "        # Each individual is a permutation of 0..7 (one queen per column)\n",
    "        return [random.randint(0, self.size - 1) for _ in range(self.size)]\n",
    "\n",
    "    def initial_population(self):\n",
    "        return [self.create_individual() for _ in range(self.population_size)]\n",
    "\n",
    "    def selection(self, population):\n",
    "        \"\"\"\n",
    "        Tournament selection: pick two random individuals, return the fitter one.\n",
    "        \"\"\"\n",
    "        a, b = random.sample(population, 2)\n",
    "        return a if self.fitness(a) > self.fitness(b) else b\n",
    "\n",
    "    def crossover(self, parent1, parent2):\n",
    "        \"\"\"\n",
    "        Single-point crossover: combine parts of two parents.\n",
    "        \"\"\"\n",
    "        point = random.randint(1, self.size - 2)\n",
    "        child = parent1[:point] + parent2[point:]\n",
    "        return child\n",
    "\n",
    "    def mutate(self, individual):\n",
    "        \"\"\"\n",
    "        Randomly change the row of a queen in one column.\n",
    "        \"\"\"\n",
    "        if random.random() < self.mutation_rate:\n",
    "            col = random.randint(0, self.size - 1)\n",
    "            row = random.randint(0, self.size - 1)\n",
    "            individual[col] = row\n",
    "        return individual\n",
    "\n",
    "    def solve(self):\n",
    "        population = self.initial_population()\n",
    "        max_fitness = (self.size * (self.size - 1)) // 2  # Perfect score (no attacks)\n",
    "\n",
    "        for generation in range(self.max_generations):\n",
    "            # Check if we already have a solution\n",
    "            for individual in population:\n",
    "                if self.fitness(individual) == max_fitness:\n",
    "                    return individual, generation\n",
    "\n",
    "            # Generate next generation\n",
    "            new_population = []\n",
    "            for _ in range(self.population_size):\n",
    "                parent1 = self.selection(population)\n",
    "                parent2 = self.selection(population)\n",
    "                child = self.crossover(parent1, parent2)\n",
    "                child = self.mutate(child)\n",
    "                new_population.append(child)\n",
    "\n",
    "            population = new_population\n",
    "\n",
    "        return None, self.max_generations  # No solution found"
   ]
  },
  {
   "cell_type": "code",
   "execution_count": 16,
   "id": "bf20aee3-d29c-4c68-b403-e5d77d5b07c8",
   "metadata": {},
   "outputs": [
    {
     "name": "stdout",
     "output_type": "stream",
     "text": [
      "Solution found in 3870 generations:\n",
      "\n",
      ". . . Q . . . . \n",
      "Q . . . . . . . \n",
      ". . . . Q . . . \n",
      ". . . . . . . Q \n",
      ". Q . . . . . . \n",
      ". . . . . . Q . \n",
      ". . Q . . . . . \n",
      ". . . . . Q . . \n",
      "\n"
     ]
    }
   ],
   "source": [
    "ga = GeneticQueens(size=8, population_size=4, mutation_rate=0.1)\n",
    "solution, generations = ga.solve()\n",
    "\n",
    "if solution:\n",
    "    print(f\"Solution found in {generations} generations:\\n\")\n",
    "    print_board(solution)\n",
    "else:\n",
    "    print(\"No solution found.\")"
   ]
  }
 ],
 "metadata": {
  "kernelspec": {
   "display_name": "Python 3",
   "language": "python",
   "name": "python3"
  },
  "language_info": {
   "codemirror_mode": {
    "name": "ipython",
    "version": 3
   },
   "file_extension": ".py",
   "mimetype": "text/x-python",
   "name": "python",
   "nbconvert_exporter": "python",
   "pygments_lexer": "ipython3",
   "version": "3.13.7"
  }
 },
 "nbformat": 4,
 "nbformat_minor": 5
}
