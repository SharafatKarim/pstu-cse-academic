{
 "cells": [
  {
   "cell_type": "markdown",
   "id": "04889ad8-81e6-48f5-91ee-205644439613",
   "metadata": {},
   "source": [
    "# Hill climbing"
   ]
  },
  {
   "cell_type": "markdown",
   "id": "df5d513f-22ad-4554-8d05-f44aa9b8529a",
   "metadata": {},
   "source": [
    "First basic libs,"
   ]
  },
  {
   "cell_type": "code",
   "execution_count": 86,
   "id": "b1d83e10-873d-47c2-9397-5ec1c54fd232",
   "metadata": {},
   "outputs": [],
   "source": [
    "import matplotlib.pyplot as plt\n",
    "import numpy as np\n",
    "import random\n",
    "import math"
   ]
  },
  {
   "cell_type": "markdown",
   "id": "4f8fd383-089b-4e29-a8cd-fcf60eb849ff",
   "metadata": {},
   "source": [
    "Our main function,"
   ]
  },
  {
   "cell_type": "code",
   "execution_count": 56,
   "id": "9a5a780a-ba36-4e48-b545-9ea388aa52fb",
   "metadata": {},
   "outputs": [
    {
     "data": {
      "image/png": "[encoded data removed]",
      "text/plain": [
       "<Figure size 640x480 with 1 Axes>"
      ]
     },
     "metadata": {},
     "output_type": "display_data"
    }
   ],
   "source": [
    "def fun(x):\n",
    "    return - ((x - 2) ** 2) + 4\n",
    "\n",
    "li = np.arange(-10, 10)\n",
    "\n",
    "plt.plot(li, fun(li))\n",
    "plt.grid()\n",
    "plt.show()"
   ]
  },
  {
   "cell_type": "markdown",
   "id": "60886959-8cc1-4b6b-aee4-3081407203e5",
   "metadata": {},
   "source": [
    "## Basic Hill Climbing"
   ]
  },
  {
   "cell_type": "code",
   "execution_count": 67,
   "id": "e8412fdf-5ab8-4466-83ef-d1b3bb02ed2c",
   "metadata": {},
   "outputs": [],
   "source": [
    "def hill_climb(fun, init, step=1, iteration=100):\n",
    "    x = init\n",
    "    for i in range(iteration):\n",
    "        print(f\"Step {i+1}: f({x}) -> f({x+step}) OR f({x-step})\")\n",
    "        if fun(x) < fun(x+step):\n",
    "            x += step\n",
    "        elif fun(x) < fun(x-step):\n",
    "            x -= step\n",
    "        else:\n",
    "            break\n",
    "    return x"
   ]
  },
  {
   "cell_type": "code",
   "execution_count": 73,
   "id": "4d51dad4-cc54-4f68-9d47-05a65d117eec",
   "metadata": {},
   "outputs": [
    {
     "name": "stdout",
     "output_type": "stream",
     "text": [
      "Step 1: f(-3) -> f(-1.5) OR f(-4.5)\n",
      "Step 2: f(-1.5) -> f(0.0) OR f(-3.0)\n",
      "Step 3: f(0.0) -> f(1.5) OR f(-1.5)\n",
      "Step 4: f(1.5) -> f(3.0) OR f(0.0)\n",
      "1.5\n"
     ]
    }
   ],
   "source": [
    "print(hill_climb(fun, random.randint(-10, 10), 1.5))"
   ]
  },
  {
   "cell_type": "markdown",
   "id": "9e8b9136-0365-4fdb-b160-103e8ab179e0",
   "metadata": {},
   "source": [
    "## Random-restart hill climbing"
   ]
  },
  {
   "cell_type": "code",
   "execution_count": 74,
   "id": "cb02c88f-d514-424e-b710-7d1a648e9876",
   "metadata": {},
   "outputs": [],
   "source": [
    "def hill_climb_random(fun, start=-10, stop=10, step=1, iteration=100):\n",
    "    x = random.randint(start, stop)\n",
    "    di = {}\n",
    "    for i in range(iteration):\n",
    "        print(f\"Step {i+1}: f({x}) - f({x+step}) - f({x-step})\")\n",
    "        if fun(x) < fun(x+step):\n",
    "            x += step\n",
    "        elif fun(x) < fun(x-step):\n",
    "            x -= step\n",
    "        else:\n",
    "            di[x] = fun(x)\n",
    "            x = random.randint(start, stop)\n",
    "    print(di)\n",
    "    return [i for i, j in di.items() if j == max(di.values())][0]"
   ]
  },
  {
   "cell_type": "code",
   "execution_count": 82,
   "id": "2a120740-de30-4e14-addd-be751b309266",
   "metadata": {},
   "outputs": [
    {
     "name": "stdout",
     "output_type": "stream",
     "text": [
      "Step 1: f(8) - f(9.5) - f(6.5)\n",
      "Step 2: f(6.5) - f(8.0) - f(5.0)\n",
      "Step 3: f(5.0) - f(6.5) - f(3.5)\n",
      "Step 4: f(3.5) - f(5.0) - f(2.0)\n",
      "Step 5: f(2.0) - f(3.5) - f(0.5)\n",
      "Step 6: f(-7) - f(-5.5) - f(-8.5)\n",
      "Step 7: f(-5.5) - f(-4.0) - f(-7.0)\n",
      "Step 8: f(-4.0) - f(-2.5) - f(-5.5)\n",
      "Step 9: f(-2.5) - f(-1.0) - f(-4.0)\n",
      "Step 10: f(-1.0) - f(0.5) - f(-2.5)\n",
      "Step 11: f(0.5) - f(2.0) - f(-1.0)\n",
      "Step 12: f(2.0) - f(3.5) - f(0.5)\n",
      "Step 13: f(10) - f(11.5) - f(8.5)\n",
      "Step 14: f(8.5) - f(10.0) - f(7.0)\n",
      "Step 15: f(7.0) - f(8.5) - f(5.5)\n",
      "Step 16: f(5.5) - f(7.0) - f(4.0)\n",
      "Step 17: f(4.0) - f(5.5) - f(2.5)\n",
      "Step 18: f(2.5) - f(4.0) - f(1.0)\n",
      "Step 19: f(-10) - f(-8.5) - f(-11.5)\n",
      "Step 20: f(-8.5) - f(-7.0) - f(-10.0)\n",
      "Step 21: f(-7.0) - f(-5.5) - f(-8.5)\n",
      "Step 22: f(-5.5) - f(-4.0) - f(-7.0)\n",
      "Step 23: f(-4.0) - f(-2.5) - f(-5.5)\n",
      "Step 24: f(-2.5) - f(-1.0) - f(-4.0)\n",
      "Step 25: f(-1.0) - f(0.5) - f(-2.5)\n",
      "Step 26: f(0.5) - f(2.0) - f(-1.0)\n",
      "Step 27: f(2.0) - f(3.5) - f(0.5)\n",
      "Step 28: f(4) - f(5.5) - f(2.5)\n",
      "Step 29: f(2.5) - f(4.0) - f(1.0)\n",
      "Step 30: f(-5) - f(-3.5) - f(-6.5)\n",
      "Step 31: f(-3.5) - f(-2.0) - f(-5.0)\n",
      "Step 32: f(-2.0) - f(-0.5) - f(-3.5)\n",
      "Step 33: f(-0.5) - f(1.0) - f(-2.0)\n",
      "Step 34: f(1.0) - f(2.5) - f(-0.5)\n",
      "Step 35: f(2.5) - f(4.0) - f(1.0)\n",
      "Step 36: f(-3) - f(-1.5) - f(-4.5)\n",
      "Step 37: f(-1.5) - f(0.0) - f(-3.0)\n",
      "Step 38: f(0.0) - f(1.5) - f(-1.5)\n",
      "Step 39: f(1.5) - f(3.0) - f(0.0)\n",
      "Step 40: f(-9) - f(-7.5) - f(-10.5)\n",
      "Step 41: f(-7.5) - f(-6.0) - f(-9.0)\n",
      "Step 42: f(-6.0) - f(-4.5) - f(-7.5)\n",
      "Step 43: f(-4.5) - f(-3.0) - f(-6.0)\n",
      "Step 44: f(-3.0) - f(-1.5) - f(-4.5)\n",
      "Step 45: f(-1.5) - f(0.0) - f(-3.0)\n",
      "Step 46: f(0.0) - f(1.5) - f(-1.5)\n",
      "Step 47: f(1.5) - f(3.0) - f(0.0)\n",
      "Step 48: f(6) - f(7.5) - f(4.5)\n",
      "Step 49: f(4.5) - f(6.0) - f(3.0)\n",
      "Step 50: f(3.0) - f(4.5) - f(1.5)\n",
      "{2.0: 4.0, 2.5: 3.75, 1.5: 3.75}\n",
      "2.0\n"
     ]
    }
   ],
   "source": [
    "print(hill_climb_random(fun, -10, 10, 1.5, 50))"
   ]
  },
  {
   "cell_type": "markdown",
   "id": "09441778-26e3-41cf-97d1-ac2732bfc1c4",
   "metadata": {},
   "source": [
    "## Simulated Annealing"
   ]
  },
  {
   "cell_type": "code",
   "execution_count": 89,
   "id": "731d8bff-a741-47a0-a204-82c92c10441a",
   "metadata": {},
   "outputs": [],
   "source": [
    "def simulated_annealing(fun, start=-10, stop=10, step=1, T=100, cooling=0.95):\n",
    "    x = random.uniform(start, stop)\n",
    "    best = x\n",
    "    i = 0\n",
    "    while T > 0.1:\n",
    "        i += 1\n",
    "        # Small random move (neighbor)\n",
    "        x_new = x + random.uniform(-step, step)\n",
    "        if x_new < start: x_new = start\n",
    "        if x_new > stop: x_new = stop\n",
    "\n",
    "        delta = fun(x_new) - fun(x)\n",
    "\n",
    "        # Accept if better or with probability exp(delta/T)\n",
    "        if delta > 0 or random.random() < math.exp(delta / T):\n",
    "            x = x_new\n",
    "            if fun(x) > fun(best):\n",
    "                best = x\n",
    "\n",
    "        print(f\"[SA] Step {i}: T={T:.2f}, x={x:.2f}, f(x)={fun(x):.2f}\")\n",
    "        T *= cooling\n",
    "    return best"
   ]
  },
  {
   "cell_type": "code",
   "execution_count": 90,
   "id": "e42e8f80-795a-47f1-9fc1-f8110bcd8ea1",
   "metadata": {},
   "outputs": [
    {
     "name": "stdout",
     "output_type": "stream",
     "text": [
      "[SA] Step 1: T=100.00, x=1.06, f(x)=3.12\n",
      "[SA] Step 2: T=95.00, x=1.97, f(x)=4.00\n",
      "[SA] Step 3: T=90.25, x=1.50, f(x)=3.75\n",
      "[SA] Step 4: T=85.74, x=0.77, f(x)=2.50\n",
      "[SA] Step 5: T=81.45, x=1.01, f(x)=3.03\n",
      "[SA] Step 6: T=77.38, x=0.25, f(x)=0.93\n",
      "[SA] Step 7: T=73.51, x=0.58, f(x)=1.98\n",
      "[SA] Step 8: T=69.83, x=1.29, f(x)=3.49\n",
      "[SA] Step 9: T=66.34, x=0.54, f(x)=1.87\n",
      "[SA] Step 10: T=63.02, x=0.29, f(x)=1.07\n",
      "[SA] Step 11: T=59.87, x=1.21, f(x)=3.37\n",
      "[SA] Step 12: T=56.88, x=1.23, f(x)=3.41\n",
      "[SA] Step 13: T=54.04, x=2.21, f(x)=3.95\n",
      "[SA] Step 14: T=51.33, x=2.69, f(x)=3.53\n",
      "[SA] Step 15: T=48.77, x=2.30, f(x)=3.91\n",
      "[SA] Step 16: T=46.33, x=1.63, f(x)=3.87\n",
      "[SA] Step 17: T=44.01, x=1.85, f(x)=3.98\n",
      "[SA] Step 18: T=41.81, x=1.63, f(x)=3.86\n",
      "[SA] Step 19: T=39.72, x=0.97, f(x)=2.94\n",
      "[SA] Step 20: T=37.74, x=0.43, f(x)=1.53\n",
      "[SA] Step 21: T=35.85, x=0.03, f(x)=0.10\n",
      "[SA] Step 22: T=34.06, x=-0.74, f(x)=-3.53\n",
      "[SA] Step 23: T=32.35, x=-0.69, f(x)=-3.24\n",
      "[SA] Step 24: T=30.74, x=-0.44, f(x)=-1.97\n",
      "[SA] Step 25: T=29.20, x=-1.16, f(x)=-6.00\n",
      "[SA] Step 26: T=27.74, x=-1.99, f(x)=-11.95\n",
      "[SA] Step 27: T=26.35, x=-1.10, f(x)=-5.58\n",
      "[SA] Step 28: T=25.03, x=-1.84, f(x)=-10.78\n",
      "[SA] Step 29: T=23.78, x=-1.27, f(x)=-6.68\n",
      "[SA] Step 30: T=22.59, x=-1.01, f(x)=-5.07\n",
      "[SA] Step 31: T=21.46, x=-1.13, f(x)=-5.79\n",
      "[SA] Step 32: T=20.39, x=-0.44, f(x)=-1.96\n",
      "[SA] Step 33: T=19.37, x=0.24, f(x)=0.89\n",
      "[SA] Step 34: T=18.40, x=0.60, f(x)=2.05\n",
      "[SA] Step 35: T=17.48, x=1.20, f(x)=3.36\n",
      "[SA] Step 36: T=16.61, x=1.88, f(x)=3.98\n",
      "[SA] Step 37: T=15.78, x=1.25, f(x)=3.44\n",
      "[SA] Step 38: T=14.99, x=1.99, f(x)=4.00\n",
      "[SA] Step 39: T=14.24, x=2.83, f(x)=3.31\n",
      "[SA] Step 40: T=13.53, x=2.51, f(x)=3.74\n",
      "[SA] Step 41: T=12.85, x=2.63, f(x)=3.60\n",
      "[SA] Step 42: T=12.21, x=2.52, f(x)=3.73\n",
      "[SA] Step 43: T=11.60, x=2.05, f(x)=4.00\n",
      "[SA] Step 44: T=11.02, x=1.42, f(x)=3.66\n",
      "[SA] Step 45: T=10.47, x=2.31, f(x)=3.90\n",
      "[SA] Step 46: T=9.94, x=2.82, f(x)=3.32\n",
      "[SA] Step 47: T=9.45, x=3.06, f(x)=2.88\n",
      "[SA] Step 48: T=8.97, x=2.86, f(x)=3.26\n",
      "[SA] Step 49: T=8.53, x=1.87, f(x)=3.98\n",
      "[SA] Step 50: T=8.10, x=1.96, f(x)=4.00\n",
      "[SA] Step 51: T=7.69, x=2.59, f(x)=3.65\n",
      "[SA] Step 52: T=7.31, x=2.59, f(x)=3.65\n",
      "[SA] Step 53: T=6.94, x=2.99, f(x)=3.03\n",
      "[SA] Step 54: T=6.60, x=3.65, f(x)=1.27\n",
      "[SA] Step 55: T=6.27, x=3.89, f(x)=0.43\n",
      "[SA] Step 56: T=5.95, x=4.55, f(x)=-2.50\n",
      "[SA] Step 57: T=5.66, x=3.63, f(x)=1.33\n",
      "[SA] Step 58: T=5.37, x=3.64, f(x)=1.32\n",
      "[SA] Step 59: T=5.10, x=3.43, f(x)=1.95\n",
      "[SA] Step 60: T=4.85, x=3.37, f(x)=2.12\n",
      "[SA] Step 61: T=4.61, x=3.24, f(x)=2.46\n",
      "[SA] Step 62: T=4.38, x=3.15, f(x)=2.69\n",
      "[SA] Step 63: T=4.16, x=2.45, f(x)=3.79\n",
      "[SA] Step 64: T=3.95, x=3.27, f(x)=2.39\n",
      "[SA] Step 65: T=3.75, x=3.59, f(x)=1.47\n",
      "[SA] Step 66: T=3.56, x=2.70, f(x)=3.52\n",
      "[SA] Step 67: T=3.39, x=2.40, f(x)=3.84\n",
      "[SA] Step 68: T=3.22, x=2.52, f(x)=3.73\n",
      "[SA] Step 69: T=3.06, x=2.99, f(x)=3.03\n",
      "[SA] Step 70: T=2.90, x=3.19, f(x)=2.59\n",
      "[SA] Step 71: T=2.76, x=2.24, f(x)=3.94\n",
      "[SA] Step 72: T=2.62, x=2.85, f(x)=3.27\n",
      "[SA] Step 73: T=2.49, x=3.49, f(x)=1.79\n",
      "[SA] Step 74: T=2.36, x=2.52, f(x)=3.73\n",
      "[SA] Step 75: T=2.25, x=2.52, f(x)=3.73\n",
      "[SA] Step 76: T=2.13, x=2.52, f(x)=3.73\n",
      "[SA] Step 77: T=2.03, x=2.09, f(x)=3.99\n",
      "[SA] Step 78: T=1.93, x=2.99, f(x)=3.02\n",
      "[SA] Step 79: T=1.83, x=2.58, f(x)=3.66\n",
      "[SA] Step 80: T=1.74, x=2.42, f(x)=3.82\n",
      "[SA] Step 81: T=1.65, x=2.07, f(x)=4.00\n",
      "[SA] Step 82: T=1.57, x=2.14, f(x)=3.98\n",
      "[SA] Step 83: T=1.49, x=1.78, f(x)=3.95\n",
      "[SA] Step 84: T=1.42, x=1.88, f(x)=3.99\n",
      "[SA] Step 85: T=1.35, x=0.89, f(x)=2.78\n",
      "[SA] Step 86: T=1.28, x=0.89, f(x)=2.78\n",
      "[SA] Step 87: T=1.21, x=0.89, f(x)=2.78\n",
      "[SA] Step 88: T=1.15, x=0.70, f(x)=2.31\n",
      "[SA] Step 89: T=1.10, x=0.94, f(x)=2.88\n",
      "[SA] Step 90: T=1.04, x=0.81, f(x)=2.59\n",
      "[SA] Step 91: T=0.99, x=0.81, f(x)=2.59\n",
      "[SA] Step 92: T=0.94, x=0.81, f(x)=2.59\n",
      "[SA] Step 93: T=0.89, x=0.81, f(x)=2.59\n",
      "[SA] Step 94: T=0.85, x=0.81, f(x)=2.59\n",
      "[SA] Step 95: T=0.81, x=0.81, f(x)=2.59\n",
      "[SA] Step 96: T=0.77, x=0.81, f(x)=2.59\n",
      "[SA] Step 97: T=0.73, x=1.33, f(x)=3.55\n",
      "[SA] Step 98: T=0.69, x=1.76, f(x)=3.94\n",
      "[SA] Step 99: T=0.66, x=2.03, f(x)=4.00\n",
      "[SA] Step 100: T=0.62, x=2.03, f(x)=4.00\n",
      "[SA] Step 101: T=0.59, x=1.37, f(x)=3.60\n",
      "[SA] Step 102: T=0.56, x=1.37, f(x)=3.60\n",
      "[SA] Step 103: T=0.53, x=2.14, f(x)=3.98\n",
      "[SA] Step 104: T=0.51, x=1.49, f(x)=3.74\n",
      "[SA] Step 105: T=0.48, x=1.49, f(x)=3.74\n",
      "[SA] Step 106: T=0.46, x=1.50, f(x)=3.75\n",
      "[SA] Step 107: T=0.44, x=1.59, f(x)=3.83\n",
      "[SA] Step 108: T=0.41, x=1.46, f(x)=3.70\n",
      "[SA] Step 109: T=0.39, x=1.85, f(x)=3.98\n",
      "[SA] Step 110: T=0.37, x=1.74, f(x)=3.93\n",
      "[SA] Step 111: T=0.35, x=1.71, f(x)=3.92\n",
      "[SA] Step 112: T=0.34, x=1.66, f(x)=3.89\n",
      "[SA] Step 113: T=0.32, x=0.84, f(x)=2.65\n",
      "[SA] Step 114: T=0.30, x=1.53, f(x)=3.78\n",
      "[SA] Step 115: T=0.29, x=2.43, f(x)=3.82\n",
      "[SA] Step 116: T=0.27, x=1.63, f(x)=3.86\n",
      "[SA] Step 117: T=0.26, x=1.65, f(x)=3.88\n",
      "[SA] Step 118: T=0.25, x=2.38, f(x)=3.85\n",
      "[SA] Step 119: T=0.24, x=2.38, f(x)=3.85\n",
      "[SA] Step 120: T=0.22, x=2.18, f(x)=3.97\n",
      "[SA] Step 121: T=0.21, x=1.90, f(x)=3.99\n",
      "[SA] Step 122: T=0.20, x=1.90, f(x)=3.99\n",
      "[SA] Step 123: T=0.19, x=1.90, f(x)=3.99\n",
      "[SA] Step 124: T=0.18, x=1.90, f(x)=3.99\n",
      "[SA] Step 125: T=0.17, x=1.90, f(x)=3.99\n",
      "[SA] Step 126: T=0.16, x=2.06, f(x)=4.00\n",
      "[SA] Step 127: T=0.16, x=2.06, f(x)=4.00\n",
      "[SA] Step 128: T=0.15, x=1.98, f(x)=4.00\n",
      "[SA] Step 129: T=0.14, x=1.98, f(x)=4.00\n",
      "[SA] Step 130: T=0.13, x=2.52, f(x)=3.73\n",
      "[SA] Step 131: T=0.13, x=2.52, f(x)=3.73\n",
      "[SA] Step 132: T=0.12, x=1.56, f(x)=3.81\n",
      "[SA] Step 133: T=0.11, x=1.56, f(x)=3.81\n",
      "[SA] Step 134: T=0.11, x=1.56, f(x)=3.81\n",
      "[SA] Step 135: T=0.10, x=2.14, f(x)=3.98\n",
      "1.9933841820124534\n"
     ]
    }
   ],
   "source": [
    "print(simulated_annealing(fun))"
   ]
  },
  {
   "cell_type": "markdown",
   "id": "e1ac9dd3-e57e-4762-b744-b8b91eaed8f7",
   "metadata": {},
   "source": [
    "## Local Beam Search"
   ]
  },
  {
   "cell_type": "code",
   "execution_count": 99,
   "id": "79125f48-8ced-4790-ad7b-44bbef313c91",
   "metadata": {},
   "outputs": [],
   "source": [
    "def local_beam_search(fun, k=2, start=-10, stop=10, step=1, iteration=50):\n",
    "    \"\"\"\n",
    "    k: number of states to keep \n",
    "    \"\"\"\n",
    "    # Start with k random states\n",
    "    states = [random.uniform(start, stop) for _ in range(k)]\n",
    "\n",
    "    for i in range(iteration):\n",
    "        neighbors = []\n",
    "        for s in states:\n",
    "            neighbors.append(s + step)\n",
    "            neighbors.append(s - step)\n",
    "\n",
    "        all_states = states + neighbors\n",
    "\n",
    "        states = sorted(all_states, key=lambda x: fun(x), reverse=True)[:k]\n",
    "\n",
    "        print(f\"[Beam] Step {i+1}: best={states[0]:.2f}, f(best)={fun(states[0]):.2f}\")\n",
    "\n",
    "    return max(states, key=fun)"
   ]
  },
  {
   "cell_type": "code",
   "execution_count": 98,
   "id": "2db82da7-4d6e-471a-af03-83e3f9a7c8dd",
   "metadata": {},
   "outputs": [
    {
     "name": "stdout",
     "output_type": "stream",
     "text": [
      "[Beam] Step 1: best=6.37, f(best)=-15.13\n",
      "[Beam] Step 2: best=5.37, f(best)=-7.38\n",
      "[Beam] Step 3: best=4.37, f(best)=-1.63\n",
      "[Beam] Step 4: best=3.37, f(best)=2.11\n",
      "[Beam] Step 5: best=2.37, f(best)=3.86\n",
      "[Beam] Step 6: best=2.37, f(best)=3.86\n",
      "[Beam] Step 7: best=2.37, f(best)=3.86\n",
      "[Beam] Step 8: best=2.37, f(best)=3.86\n",
      "[Beam] Step 9: best=2.37, f(best)=3.86\n",
      "[Beam] Step 10: best=2.37, f(best)=3.86\n",
      "[Beam] Step 11: best=2.37, f(best)=3.86\n",
      "[Beam] Step 12: best=2.37, f(best)=3.86\n",
      "[Beam] Step 13: best=2.37, f(best)=3.86\n",
      "[Beam] Step 14: best=2.37, f(best)=3.86\n",
      "[Beam] Step 15: best=2.37, f(best)=3.86\n",
      "[Beam] Step 16: best=2.37, f(best)=3.86\n",
      "[Beam] Step 17: best=2.37, f(best)=3.86\n",
      "[Beam] Step 18: best=2.37, f(best)=3.86\n",
      "[Beam] Step 19: best=2.37, f(best)=3.86\n",
      "[Beam] Step 20: best=2.37, f(best)=3.86\n",
      "[Beam] Step 21: best=2.37, f(best)=3.86\n",
      "[Beam] Step 22: best=2.37, f(best)=3.86\n",
      "[Beam] Step 23: best=2.37, f(best)=3.86\n",
      "[Beam] Step 24: best=2.37, f(best)=3.86\n",
      "[Beam] Step 25: best=2.37, f(best)=3.86\n",
      "[Beam] Step 26: best=2.37, f(best)=3.86\n",
      "[Beam] Step 27: best=2.37, f(best)=3.86\n",
      "[Beam] Step 28: best=2.37, f(best)=3.86\n",
      "[Beam] Step 29: best=2.37, f(best)=3.86\n",
      "[Beam] Step 30: best=2.37, f(best)=3.86\n",
      "[Beam] Step 31: best=2.37, f(best)=3.86\n",
      "[Beam] Step 32: best=2.37, f(best)=3.86\n",
      "[Beam] Step 33: best=2.37, f(best)=3.86\n",
      "[Beam] Step 34: best=2.37, f(best)=3.86\n",
      "[Beam] Step 35: best=2.37, f(best)=3.86\n",
      "[Beam] Step 36: best=2.37, f(best)=3.86\n",
      "[Beam] Step 37: best=2.37, f(best)=3.86\n",
      "[Beam] Step 38: best=2.37, f(best)=3.86\n",
      "[Beam] Step 39: best=2.37, f(best)=3.86\n",
      "[Beam] Step 40: best=2.37, f(best)=3.86\n",
      "[Beam] Step 41: best=2.37, f(best)=3.86\n",
      "[Beam] Step 42: best=2.37, f(best)=3.86\n",
      "[Beam] Step 43: best=2.37, f(best)=3.86\n",
      "[Beam] Step 44: best=2.37, f(best)=3.86\n",
      "[Beam] Step 45: best=2.37, f(best)=3.86\n",
      "[Beam] Step 46: best=2.37, f(best)=3.86\n",
      "[Beam] Step 47: best=2.37, f(best)=3.86\n",
      "[Beam] Step 48: best=2.37, f(best)=3.86\n",
      "[Beam] Step 49: best=2.37, f(best)=3.86\n",
      "[Beam] Step 50: best=2.37, f(best)=3.86\n",
      "2.373330097720906\n"
     ]
    }
   ],
   "source": [
    "print(local_beam_search(fun))"
   ]
  }
 ],
 "metadata": {
  "kernelspec": {
   "display_name": "Python 3 (ipykernel)",
   "language": "python",
   "name": "python3"
  },
  "language_info": {
   "codemirror_mode": {
    "name": "ipython",
    "version": 3
   },
   "file_extension": ".py",
   "mimetype": "text/x-python",
   "name": "python",
   "nbconvert_exporter": "python",
   "pygments_lexer": "ipython3",
   "version": "3.13.7"
  }
 },
 "nbformat": 4,
 "nbformat_minor": 5
}
